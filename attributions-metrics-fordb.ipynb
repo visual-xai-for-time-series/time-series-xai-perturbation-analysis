{
 "cells": [
  {
   "cell_type": "code",
   "execution_count": 1,
   "id": "72164a98",
   "metadata": {},
   "outputs": [],
   "source": [
    "import os\n",
    "os.environ['CUDA_DEVICE_ORDER'] = 'PCI_BUS_ID'\n",
    "os.environ['CUDA_VISIBLE_DEVICES'] = '3'"
   ]
  },
  {
   "cell_type": "code",
   "execution_count": 2,
   "id": "bea547d8",
   "metadata": {},
   "outputs": [
    {
     "name": "stderr",
     "output_type": "stream",
     "text": [
      "/home/schlegel/.conda/captum/lib/python3.10/site-packages/tqdm/auto.py:22: TqdmWarning: IProgress not found. Please update jupyter and ipywidgets. See https://ipywidgets.readthedocs.io/en/stable/user_install.html\n",
      "  from .autonotebook import tqdm as notebook_tqdm\n"
     ]
    }
   ],
   "source": [
    "import time\n",
    "import random\n",
    "\n",
    "import numpy as np\n",
    "import pandas as pd\n",
    "import scipy as sp\n",
    "\n",
    "import torch\n",
    "import torch.nn as nn\n",
    "\n",
    "from torch.utils.data import Dataset, DataLoader\n",
    "\n",
    "from sklearn.preprocessing import OneHotEncoder\n",
    "\n",
    "from tqdm import tqdm\n",
    "\n",
    "import matplotlib.pyplot as plt\n",
    "\n",
    "from sktime.datasets import load_UCR_UEA_dataset"
   ]
  },
  {
   "cell_type": "code",
   "execution_count": null,
   "id": "d4a8c347",
   "metadata": {},
   "outputs": [],
   "source": [
    "import exp_attributions as exp_att\n",
    "import exp_perturbation_analysis as exp_pa\n",
    "import exp_perturbation_card as exp_card"
   ]
  },
  {
   "cell_type": "code",
   "execution_count": 3,
   "id": "11f0b0c2",
   "metadata": {},
   "outputs": [],
   "source": [
    "random_seed = 13\n",
    "\n",
    "torch.manual_seed(random_seed)\n",
    "random.seed(random_seed)\n",
    "np.random.seed(random_seed)"
   ]
  },
  {
   "cell_type": "code",
   "execution_count": 4,
   "id": "d002eff5",
   "metadata": {},
   "outputs": [],
   "source": [
    "dataset = 'FordB'\n",
    "dataset_name = dataset.lower()\n",
    "\n",
    "cur_time = time.strftime('%Y-%m-%d_%H-%M-%S')\n",
    "base_dir = f'./results/{dataset_name}--{cur_time}'\n",
    "\n",
    "\n",
    "device = torch.device('cuda' if torch.cuda.is_available() else 'cpu')"
   ]
  },
  {
   "cell_type": "code",
   "execution_count": 5,
   "id": "f08e7e89",
   "metadata": {},
   "outputs": [
    {
     "name": "stdout",
     "output_type": "stream",
     "text": [
      "Length training data: 3601 labels: 3601 test data: 1320 labels: 1320\n"
     ]
    }
   ],
   "source": [
    "X_train, y_train = load_UCR_UEA_dataset(name=dataset, split='train', return_type='numpyflat')\n",
    "X_test, y_test = load_UCR_UEA_dataset(name=dataset, split='test', return_type='numpyflat')\n",
    "\n",
    "print(f'Length training data: {len(X_train)} labels: {len(y_train)} test data: {len(X_test)} labels: {len(y_test)}')"
   ]
  },
  {
   "cell_type": "code",
   "execution_count": 6,
   "id": "2be1298d",
   "metadata": {},
   "outputs": [
    {
     "name": "stderr",
     "output_type": "stream",
     "text": [
      "/home/schlegel/.conda/captum/lib/python3.10/site-packages/sklearn/preprocessing/_encoders.py:828: FutureWarning: `sparse` was renamed to `sparse_output` in version 1.2 and will be removed in 1.4. `sparse_output` is ignored unless you leave `sparse` to its default value.\n",
      "  warnings.warn(\n"
     ]
    }
   ],
   "source": [
    "encoder = OneHotEncoder(categories='auto', sparse=False)\n",
    "\n",
    "y_train_ohe = encoder.fit_transform(np.expand_dims(y_train, axis=-1))\n",
    "y_test_ohe = encoder.transform(np.expand_dims(y_test, axis=-1))\n",
    "\n",
    "y_train_norm = y_train_ohe.argmax(axis=-1)\n",
    "y_test_norm = y_test_ohe.argmax(axis=-1)"
   ]
  },
  {
   "cell_type": "code",
   "execution_count": 7,
   "id": "3d0eaf72",
   "metadata": {},
   "outputs": [],
   "source": [
    "class FordBDataset(Dataset):\n",
    "\n",
    "    def __init__(self, X, y):\n",
    "        self.X = X\n",
    "        self.y = y\n",
    "    \n",
    "    def __len__(self):\n",
    "        return len(self.X)\n",
    "    \n",
    "    def __getitem__(self, idx):\n",
    "        inputs = self.X[idx]\n",
    "        label = self.y[idx]\n",
    "        \n",
    "        return inputs, label"
   ]
  },
  {
   "cell_type": "code",
   "execution_count": 8,
   "id": "617850fa",
   "metadata": {},
   "outputs": [],
   "source": [
    "dataset_train = FordBDataset(X_train, y_train_ohe)\n",
    "dataset_test = FordBDataset(X_test, y_test_ohe)"
   ]
  },
  {
   "cell_type": "code",
   "execution_count": 9,
   "id": "fd77d242",
   "metadata": {},
   "outputs": [],
   "source": [
    "dataloader_train = DataLoader(dataset_train, batch_size=120, shuffle=True)\n",
    "dataloader_train_not_shuffled = DataLoader(dataset_train, batch_size=120, shuffle=False)\n",
    "dataloader_test = DataLoader(dataset_test, batch_size=120, shuffle=False)"
   ]
  },
  {
   "cell_type": "code",
   "execution_count": 10,
   "id": "c0c49dfa",
   "metadata": {},
   "outputs": [],
   "source": [
    "class SimpleCNN(nn.Module):\n",
    "    def __init__(self):\n",
    "        super(SimpleCNN, self).__init__()\n",
    "        \n",
    "        self.conv1 = nn.Sequential(\n",
    "            nn.Conv1d(1, 10, kernel_size=3, stride=1),\n",
    "            nn.ReLU(inplace=True)\n",
    "        )\n",
    "        self.conv2 = nn.Sequential(\n",
    "            nn.Conv1d(10, 50, kernel_size=3, stride=1),\n",
    "            nn.MaxPool1d(3),\n",
    "            nn.ReLU(inplace=True)\n",
    "        )\n",
    "        self.conv3 = nn.Sequential(\n",
    "            nn.Conv1d(50, 100, kernel_size=3, stride=1),\n",
    "            nn.MaxPool1d(3),\n",
    "            nn.ReLU(inplace=True)\n",
    "        )\n",
    "        \n",
    "        self.fc1 = nn.Sequential(\n",
    "            nn.Linear(100 * 54, 100),\n",
    "            nn.Dropout(0.5),\n",
    "            nn.ReLU(inplace=True)\n",
    "        )\n",
    "        self.fc2 = nn.Sequential(\n",
    "            nn.Linear(100, 2),\n",
    "            nn.Softmax(-1)\n",
    "        )\n",
    "        \n",
    "    def forward(self, x):\n",
    "        x = self.conv1(x)\n",
    "        x = self.conv2(x)\n",
    "        x = self.conv3(x)\n",
    "\n",
    "        batch_size = x.shape[0]\n",
    "        x = x.view(batch_size, -1)\n",
    "        x = self.fc1(x)\n",
    "        x = self.fc2(x)\n",
    "        \n",
    "        return x"
   ]
  },
  {
   "cell_type": "code",
   "execution_count": 11,
   "id": "d6eb895b",
   "metadata": {},
   "outputs": [],
   "source": [
    "def trainer(model, dataloader_train, criterion):\n",
    "    running_loss = 0\n",
    "\n",
    "    model.train()\n",
    "\n",
    "    for idx, (inputs, labels) in enumerate(dataloader_train):\n",
    "        inputs = inputs.reshape(inputs.shape[0], 1, -1)\n",
    "        inputs = inputs.float().to(device)\n",
    "        labels = labels.float().to(device)\n",
    "\n",
    "        optimizer.zero_grad()\n",
    "        preds = model(inputs)\n",
    "        loss = criterion(preds, labels.argmax(dim=-1))\n",
    "        loss.backward()\n",
    "        optimizer.step()\n",
    "        \n",
    "        running_loss += loss.item()\n",
    "\n",
    "    train_loss = running_loss / len(dataloader_train)\n",
    "    \n",
    "    return train_loss\n",
    "\n",
    "\n",
    "def validator(model, dataloader_test, criterion):\n",
    "    running_loss = 0\n",
    "\n",
    "    model.eval()\n",
    "\n",
    "    for idx, (inputs, labels) in enumerate(dataloader_test):\n",
    "        inputs = inputs.reshape(inputs.shape[0], 1, -1)\n",
    "        inputs = inputs.float().to(device)\n",
    "        labels = labels.float().to(device)\n",
    "\n",
    "        preds = model(inputs)\n",
    "        loss = criterion(preds, labels.argmax(dim=-1))\n",
    "        \n",
    "        running_loss += loss.item()\n",
    "\n",
    "    train_loss = running_loss / len(dataloader_train)\n",
    "    \n",
    "    return train_loss"
   ]
  },
  {
   "cell_type": "code",
   "execution_count": 12,
   "id": "be289fb2",
   "metadata": {},
   "outputs": [],
   "source": [
    "device = torch.device('cuda' if torch.cuda.is_available() else 'cpu')\n",
    "model = SimpleCNN().to(device)\n",
    "optimizer = torch.optim.Adam(model.parameters(), lr=1e-4)\n",
    "loss = nn.CrossEntropyLoss()"
   ]
  },
  {
   "cell_type": "code",
   "execution_count": 13,
   "id": "8e572749",
   "metadata": {},
   "outputs": [
    {
     "name": "stdout",
     "output_type": "stream",
     "text": [
      "Val 0.24538052082061768\n",
      "Val 0.2271573466639365\n",
      "Val 0.19473911677637407\n",
      "Val 0.1729797576704333\n",
      "Val 0.16226956536692957\n",
      "Val 0.15826877278666343\n",
      "Val 0.1547743562729128\n",
      "Val 0.15435011925235873\n",
      "Val 0.15064942259942332\n",
      "Val 0.15206417537504627\n",
      "Val 0.15143455036224857\n",
      "Val 0.14788151844855277\n",
      "Val 0.1474695869030491\n",
      "Val 0.15191022426851333\n",
      "Val 0.1476726916528517\n",
      "Val 0.1469672485705345\n",
      "Val 0.14794497336110762\n",
      "Val 0.146093939581225\n",
      "Val 0.14691076163322694\n",
      "Val 0.14579709018430403\n",
      "Val 0.1537398878605135\n",
      "Val 0.1466710154087313\n",
      "Val 0.14736624686948716\n",
      "Val 0.14725754914745207\n",
      "Val 0.14794617699038598\n",
      "Val 0.14752341951093367\n",
      "Val 0.14705410984254652\n",
      "Val 0.1469624888512396\n",
      "Val 0.14640250994313148\n",
      "Val 0.14645722700703528\n",
      "Val 0.14668357180010888\n",
      "Val 0.14631924513847597\n",
      "Val 0.14703099093129557\n",
      "Val 0.14645788842631924\n",
      "Val 0.14649166310987166\n",
      "Val 0.14676230184493527\n",
      "Val 0.1466953533311044\n",
      "Val 0.14676340260813314\n",
      "Val 0.148573471653846\n",
      "Val 0.14848103927027795\n",
      "Val 0.1556036183910985\n",
      "Val 0.14734717049906332\n",
      "Val 0.1476951241493225\n",
      "Val 0.15120883045657987\n",
      "Val 0.15063132009198588\n",
      "Val 0.14780795381915185\n",
      "Val 0.1476510292099368\n",
      "Val 0.14751567379120858\n",
      "Val 0.14837212812515996\n",
      "Val 0.1472917910545103\n"
     ]
    }
   ],
   "source": [
    "epochs = 500\n",
    "\n",
    "for epoch in range(epochs):\n",
    "    train_loss = trainer(model, dataloader_train, loss)\n",
    "    if epoch % 10 == 0:\n",
    "        print('Val', validator(model, dataloader_test, loss))"
   ]
  },
  {
   "cell_type": "code",
   "execution_count": 14,
   "id": "57ed0f48",
   "metadata": {},
   "outputs": [
    {
     "name": "stdout",
     "output_type": "stream",
     "text": [
      "Prediction Accuracy Train 0.9944\n"
     ]
    }
   ],
   "source": [
    "model.eval()\n",
    "\n",
    "preds = []\n",
    "labels = []\n",
    "for x in dataloader_train_not_shuffled:\n",
    "    input_, label_ = x\n",
    "    input_ = input_.reshape(input_.shape[0], 1, -1)\n",
    "    input_ = input_.float().to(device)\n",
    "    label_ = label_.float().to(device)\n",
    "\n",
    "    pred_ = model(input_)\n",
    "    preds.extend(pred_)\n",
    "    labels.extend(label_)\n",
    "\n",
    "preds = torch.stack(preds)\n",
    "labels = torch.stack(labels)\n",
    "print('Prediction Accuracy Train', np.round((preds.argmax(dim=-1) == labels.argmax(dim=-1)).int().sum().float().item() / len(preds), 4))\n",
    "\n",
    "y_train_pred = preds.cpu().detach().numpy()"
   ]
  },
  {
   "cell_type": "code",
   "execution_count": 15,
   "id": "ad528def",
   "metadata": {},
   "outputs": [
    {
     "name": "stdout",
     "output_type": "stream",
     "text": [
      "Prediction Accuracy Test 0.8909\n"
     ]
    }
   ],
   "source": [
    "model.eval()\n",
    "\n",
    "preds = []\n",
    "labels = []\n",
    "for x in dataloader_test:\n",
    "    input_, label_ = x\n",
    "    input_ = input_.reshape(input_.shape[0], 1, -1)\n",
    "    input_ = input_.float().to(device)\n",
    "    label_ = label_.float().to(device)\n",
    "\n",
    "    pred_ = model(input_)\n",
    "    preds.extend(pred_)\n",
    "    labels.extend(label_)\n",
    "\n",
    "preds = torch.stack(preds)\n",
    "labels = torch.stack(labels)\n",
    "print('Prediction Accuracy Test', np.round((preds.argmax(dim=-1) == labels.argmax(dim=-1)).int().sum().float().item() / len(preds), 4))\n",
    "\n",
    "y_test_pred = preds.cpu().detach().numpy()"
   ]
  },
  {
   "cell_type": "code",
   "execution_count": null,
   "id": "1b5f2b91",
   "metadata": {},
   "outputs": [],
   "source": []
  },
  {
   "cell_type": "code",
   "execution_count": null,
   "id": "b530ee27",
   "metadata": {},
   "outputs": [],
   "source": []
  },
  {
   "cell_type": "markdown",
   "id": "3ab4fb05",
   "metadata": {},
   "source": [
    "# Generate attributions for the training data"
   ]
  },
  {
   "cell_type": "code",
   "execution_count": 18,
   "id": "2912aaf8",
   "metadata": {},
   "outputs": [
    {
     "data": {
      "text/plain": [
       "SimpleCNN(\n",
       "  (conv1): Sequential(\n",
       "    (0): Conv1d(1, 10, kernel_size=(3,), stride=(1,))\n",
       "    (1): ReLU(inplace=True)\n",
       "  )\n",
       "  (conv2): Sequential(\n",
       "    (0): Conv1d(10, 50, kernel_size=(3,), stride=(1,))\n",
       "    (1): MaxPool1d(kernel_size=3, stride=3, padding=0, dilation=1, ceil_mode=False)\n",
       "    (2): ReLU(inplace=True)\n",
       "  )\n",
       "  (conv3): Sequential(\n",
       "    (0): Conv1d(50, 100, kernel_size=(3,), stride=(1,))\n",
       "    (1): MaxPool1d(kernel_size=3, stride=3, padding=0, dilation=1, ceil_mode=False)\n",
       "    (2): ReLU(inplace=True)\n",
       "  )\n",
       "  (fc1): Sequential(\n",
       "    (0): Linear(in_features=5400, out_features=100, bias=True)\n",
       "    (1): Dropout(p=0.5, inplace=False)\n",
       "    (2): ReLU(inplace=True)\n",
       "  )\n",
       "  (fc2): Sequential(\n",
       "    (0): Linear(in_features=100, out_features=2, bias=True)\n",
       "    (1): Softmax(dim=-1)\n",
       "  )\n",
       ")"
      ]
     },
     "execution_count": 18,
     "metadata": {},
     "output_type": "execute_result"
    }
   ],
   "source": [
    "model.eval()"
   ]
  },
  {
   "cell_type": "markdown",
   "id": "e4671720",
   "metadata": {},
   "source": [
    "### General attribution method"
   ]
  },
  {
   "cell_type": "code",
   "execution_count": 19,
   "id": "9c1777ef",
   "metadata": {},
   "outputs": [],
   "source": [
    "sample, label = dataset_train[0]\n",
    "shape = sample.reshape(1, -1).shape\n",
    "baselines = torch.from_numpy(np.array([dataset_train[torch.randint(len(dataset_train), (1,))][0] for _ in range(10)])).reshape(-1, *shape).float().to(device)"
   ]
  },
  {
   "cell_type": "code",
   "execution_count": null,
   "id": "04b50052",
   "metadata": {},
   "outputs": [],
   "source": [
    "attributions_train = {}\n",
    "predictions_train = {}\n",
    "\n",
    "attr_batch, preds_batch = exp_att.generate_attributions_batch(shape, model, device, dataloader_train_not_shuffled, baselines)\n",
    "attributions_train.update(attr_batch)\n",
    "predictions_train.update(preds_batch)\n",
    "\n",
    "del attr_batch\n",
    "del preds_batch\n",
    "\n",
    "attr_single, preds_single = exp_att.generate_attributions_single(shape, model, device, dataloader_train_not_shuffled, baselines)\n",
    "attributions_train.update(attr_single)\n",
    "predictions_train.update(preds_single)\n",
    "\n",
    "del attr_single\n",
    "del preds_single"
   ]
  },
  {
   "cell_type": "code",
   "execution_count": null,
   "id": "cd7e1ac8",
   "metadata": {},
   "outputs": [],
   "source": [
    "overall_results = exp_pa.perturbation_analysis(attributions_train, X_train, y_train, model, device, base_dir)"
   ]
  },
  {
   "cell_type": "code",
   "execution_count": null,
   "id": "3bc154d7",
   "metadata": {},
   "outputs": [],
   "source": [
    "for cur_attr_name in attributions_train:\n",
    "    cur_attr_name = cur_attr_name.lower().replace(' ', '_')\n",
    "    cur_dir = f'{base_dir}/method-{cur_attr_name}'\n",
    "    for deletion_value in exp_pa.values:\n",
    "        deletion_value_fnc, deletion_length = deletion_value\n",
    "        name = deletion_value_fnc.__name__ + ' ' + str(deletion_length)\n",
    "        attribution = cur_attr_name\n",
    "        \n",
    "        results = overall_results[cur_attr_name][name]\n",
    "        exp_card.create_perturbation_analysis_card(dataset, attribution, name, X_train, results, cur_dir)"
   ]
  },
  {
   "cell_type": "code",
   "execution_count": null,
   "id": "5cc0eba9",
   "metadata": {},
   "outputs": [],
   "source": [
    "import json\n",
    "from json import JSONEncoder\n",
    "\n",
    "class NumpyArrayEncoder(JSONEncoder):\n",
    "    def default(self, obj):\n",
    "        if isinstance(obj, np.ndarray):\n",
    "            return obj.tolist()\n",
    "        if isinstance(obj, np.int64):\n",
    "            return str(obj)\n",
    "        if isinstance(obj, np.float32):\n",
    "            return str(obj)\n",
    "        return JSONEncoder.default(self, obj)\n",
    "\n",
    "overall_results_json = json.dumps(overall_results, cls=NumpyArrayEncoder)\n",
    "\n",
    "with open(f'{base_dir}/results.json', 'w') as f:\n",
    "    f.write(overall_results_json)"
   ]
  },
  {
   "cell_type": "code",
   "execution_count": null,
   "id": "cf754a62",
   "metadata": {},
   "outputs": [],
   "source": [
    "import shutil\n",
    "\n",
    "shutil.make_archive(f'./results/time-{cur_time}', 'zip', base_dir)"
   ]
  },
  {
   "cell_type": "code",
   "execution_count": null,
   "id": "406c4ad9",
   "metadata": {},
   "outputs": [],
   "source": []
  }
 ],
 "metadata": {
  "kernelspec": {
   "display_name": "Captum",
   "language": "python",
   "name": "captum"
  },
  "language_info": {
   "codemirror_mode": {
    "name": "ipython",
    "version": 3
   },
   "file_extension": ".py",
   "mimetype": "text/x-python",
   "name": "python",
   "nbconvert_exporter": "python",
   "pygments_lexer": "ipython3",
   "version": "3.10.8"
  }
 },
 "nbformat": 4,
 "nbformat_minor": 5
}
