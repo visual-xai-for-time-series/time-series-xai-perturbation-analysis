{
 "cells": [
  {
   "cell_type": "code",
   "execution_count": 1,
   "id": "249366d2",
   "metadata": {},
   "outputs": [],
   "source": [
    "import os\n",
    "os.environ['CUDA_DEVICE_ORDER'] = 'PCI_BUS_ID'\n",
    "os.environ['CUDA_VISIBLE_DEVICES'] = '2'"
   ]
  },
  {
   "cell_type": "code",
   "execution_count": 2,
   "id": "2173e635",
   "metadata": {},
   "outputs": [
    {
     "name": "stderr",
     "output_type": "stream",
     "text": [
      "/home/schlegel/.conda/captum/lib/python3.10/site-packages/tqdm/auto.py:22: TqdmWarning: IProgress not found. Please update jupyter and ipywidgets. See https://ipywidgets.readthedocs.io/en/stable/user_install.html\n",
      "  from .autonotebook import tqdm as notebook_tqdm\n"
     ]
    }
   ],
   "source": [
    "import time\n",
    "import random\n",
    "\n",
    "import numpy as np\n",
    "import pandas as pd\n",
    "import scipy as sp\n",
    "\n",
    "import torch\n",
    "import torch.nn as nn\n",
    "\n",
    "from torch.utils.data import Dataset, DataLoader\n",
    "\n",
    "from sklearn.preprocessing import OneHotEncoder\n",
    "\n",
    "from tqdm import tqdm\n",
    "\n",
    "import matplotlib.pyplot as plt\n",
    "\n",
    "from sktime.datasets import load_UCR_UEA_dataset"
   ]
  },
  {
   "cell_type": "code",
   "execution_count": null,
   "id": "a80088d6",
   "metadata": {},
   "outputs": [],
   "source": [
    "import exp_attributions as exp_att\n",
    "import exp_perturbation_analysis as exp_pa\n",
    "import exp_perturbation_card as exp_card"
   ]
  },
  {
   "cell_type": "code",
   "execution_count": 3,
   "id": "e2230b7b",
   "metadata": {},
   "outputs": [],
   "source": [
    "random_seed = 13\n",
    "\n",
    "torch.manual_seed(random_seed)\n",
    "random.seed(random_seed)\n",
    "np.random.seed(random_seed)"
   ]
  },
  {
   "cell_type": "code",
   "execution_count": 4,
   "id": "4f130eed",
   "metadata": {},
   "outputs": [],
   "source": [
    "dataset = 'ElectricDevices'\n",
    "dataset_name = dataset.lower()\n",
    "\n",
    "cur_time = time.strftime('%Y-%m-%d_%H-%M-%S')\n",
    "base_dir = f'./results/{dataset_name}--{cur_time}'\n",
    "\n",
    "device = torch.device('cuda' if torch.cuda.is_available() else 'cpu')"
   ]
  },
  {
   "cell_type": "code",
   "execution_count": 5,
   "id": "cb86e726",
   "metadata": {},
   "outputs": [
    {
     "name": "stdout",
     "output_type": "stream",
     "text": [
      "Length training data: 8926 labels: 8926 test data: 7711 labels: 7711\n"
     ]
    }
   ],
   "source": [
    "X_train, y_train = load_UCR_UEA_dataset(name=dataset, split='train', return_type='numpyflat')\n",
    "X_test, y_test = load_UCR_UEA_dataset(name=dataset, split='test', return_type='numpyflat')\n",
    "\n",
    "print(f'Length training data: {len(X_train)} labels: {len(y_train)} test data: {len(X_test)} labels: {len(y_test)}')"
   ]
  },
  {
   "cell_type": "code",
   "execution_count": 6,
   "id": "4f2e6c15",
   "metadata": {},
   "outputs": [
    {
     "name": "stderr",
     "output_type": "stream",
     "text": [
      "/home/schlegel/.conda/captum/lib/python3.10/site-packages/sklearn/preprocessing/_encoders.py:828: FutureWarning: `sparse` was renamed to `sparse_output` in version 1.2 and will be removed in 1.4. `sparse_output` is ignored unless you leave `sparse` to its default value.\n",
      "  warnings.warn(\n"
     ]
    }
   ],
   "source": [
    "encoder = OneHotEncoder(categories='auto', sparse=False)\n",
    "\n",
    "y_train_ohe = encoder.fit_transform(np.expand_dims(y_train, axis=-1))\n",
    "y_test_ohe = encoder.transform(np.expand_dims(y_test, axis=-1))\n",
    "\n",
    "y_train_norm = y_train_ohe.argmax(axis=-1)\n",
    "y_test_norm = y_test_ohe.argmax(axis=-1)"
   ]
  },
  {
   "cell_type": "code",
   "execution_count": 7,
   "id": "c7eee986",
   "metadata": {},
   "outputs": [],
   "source": [
    "class FordADataset(Dataset):\n",
    "\n",
    "    def __init__(self, X, y):\n",
    "        self.X = X\n",
    "        self.y = y\n",
    "    \n",
    "    def __len__(self):\n",
    "        return len(self.X)\n",
    "    \n",
    "    def __getitem__(self, idx):\n",
    "        inputs = self.X[idx]\n",
    "        label = self.y[idx]\n",
    "        \n",
    "        return inputs, label"
   ]
  },
  {
   "cell_type": "code",
   "execution_count": 8,
   "id": "c49e28ae",
   "metadata": {},
   "outputs": [],
   "source": [
    "dataset_train = FordADataset(X_train, y_train_ohe)\n",
    "dataset_test = FordADataset(X_test, y_test_ohe)"
   ]
  },
  {
   "cell_type": "code",
   "execution_count": 9,
   "id": "4c4c16aa",
   "metadata": {},
   "outputs": [],
   "source": [
    "dataloader_train = DataLoader(dataset_train, batch_size=120, shuffle=True)\n",
    "dataloader_train_not_shuffled = DataLoader(dataset_train, batch_size=120, shuffle=False)\n",
    "dataloader_test = DataLoader(dataset_test, batch_size=120, shuffle=False)"
   ]
  },
  {
   "cell_type": "code",
   "execution_count": 80,
   "id": "e9da332e",
   "metadata": {},
   "outputs": [],
   "source": [
    "class SimpleCNN(nn.Module):\n",
    "    def __init__(self):\n",
    "        super(SimpleCNN, self).__init__()\n",
    "        \n",
    "        self.conv1 = nn.Sequential(\n",
    "            nn.Conv1d(1, 10, kernel_size=7, stride=1),\n",
    "            nn.ReLU(inplace=True)\n",
    "        )\n",
    "        self.conv2 = nn.Sequential(\n",
    "            nn.Conv1d(10, 50, kernel_size=5, stride=1),\n",
    "            nn.ReLU(inplace=True)\n",
    "        )\n",
    "        self.conv3 = nn.Sequential(\n",
    "            nn.Conv1d(50, 100, kernel_size=3, stride=1),\n",
    "            nn.ReLU(inplace=True)\n",
    "        )\n",
    "        \n",
    "        self.fc1 = nn.Sequential(\n",
    "            nn.Linear(100 * 84, 100),\n",
    "            nn.Dropout(0.5),\n",
    "            nn.ReLU(inplace=True)\n",
    "        )\n",
    "        self.fc2 = nn.Sequential(\n",
    "            nn.Linear(100, 7),\n",
    "            nn.Softmax(-1)\n",
    "        )\n",
    "        \n",
    "        self.downsampling = nn.Sequential(\n",
    "            nn.Conv1d(1, 1, kernel_size=7, stride=1, dilation=2, bias=False),\n",
    "        )\n",
    "        \n",
    "    def forward(self, x):\n",
    "        y = self.downsampling(x)\n",
    "        x = self.conv1(x)\n",
    "        x = self.conv2(x)\n",
    "        x = self.conv3(x)\n",
    "        \n",
    "        x = torch.add(x, y)\n",
    "\n",
    "        batch_size = x.shape[0]\n",
    "        x = x.view(batch_size, -1)\n",
    "        x = self.fc1(x)\n",
    "        x = self.fc2(x)\n",
    "        \n",
    "        return x"
   ]
  },
  {
   "cell_type": "code",
   "execution_count": 81,
   "id": "5ccbe136",
   "metadata": {},
   "outputs": [],
   "source": [
    "def trainer(model, dataloader_train, criterion):\n",
    "    running_loss = 0\n",
    "\n",
    "    model.train()\n",
    "\n",
    "    for idx, (inputs, labels) in enumerate(dataloader_train):\n",
    "        inputs = inputs.reshape(inputs.shape[0], 1, -1)\n",
    "        inputs = inputs.float().to(device)\n",
    "        labels = labels.float().to(device)\n",
    "\n",
    "        optimizer.zero_grad()\n",
    "        preds = model(inputs)\n",
    "        loss = criterion(preds, labels.argmax(dim=-1))\n",
    "        loss.backward()\n",
    "        optimizer.step()\n",
    "        \n",
    "        running_loss += loss.item()\n",
    "\n",
    "    train_loss = running_loss / len(dataloader_train)\n",
    "    \n",
    "    return train_loss\n",
    "\n",
    "\n",
    "def validator(model, dataloader_test, criterion):\n",
    "    running_loss = 0\n",
    "\n",
    "    model.eval()\n",
    "\n",
    "    for idx, (inputs, labels) in enumerate(dataloader_test):\n",
    "        inputs = inputs.reshape(inputs.shape[0], 1, -1)\n",
    "        inputs = inputs.float().to(device)\n",
    "        labels = labels.float().to(device)\n",
    "\n",
    "        preds = model(inputs)\n",
    "        loss = criterion(preds, labels.argmax(dim=-1))\n",
    "        \n",
    "        running_loss += loss.item()\n",
    "\n",
    "    train_loss = running_loss / len(dataloader_train)\n",
    "    \n",
    "    return train_loss"
   ]
  },
  {
   "cell_type": "code",
   "execution_count": 83,
   "id": "1eaa8c23",
   "metadata": {},
   "outputs": [],
   "source": [
    "device = torch.device('cuda' if torch.cuda.is_available() else 'cpu')\n",
    "model = SimpleCNN().to(device)\n",
    "optimizer = torch.optim.Adam(model.parameters(), lr=1e-4)\n",
    "loss = nn.CrossEntropyLoss()"
   ]
  },
  {
   "cell_type": "code",
   "execution_count": 84,
   "id": "04f3e253",
   "metadata": {},
   "outputs": [
    {
     "name": "stdout",
     "output_type": "stream",
     "text": [
      "Val 1.4655966567993164\n",
      "Val 1.3613561407725017\n",
      "Val 1.3416965023676555\n",
      "Val 1.3390001567204792\n",
      "Val 1.336631809870402\n",
      "Val 1.3378122393290202\n",
      "Val 1.3401881965001423\n",
      "Val 1.3374788777033488\n",
      "Val 1.3283348242441813\n",
      "Val 1.3269352213541667\n",
      "Val 1.3226448933283488\n",
      "Val 1.3227354685465496\n",
      "Val 1.3245678647359211\n",
      "Val 1.3233643547693887\n",
      "Val 1.3210416316986084\n",
      "Val 1.3253126700719198\n",
      "Val 1.3187217489878336\n",
      "Val 1.3234867604573568\n",
      "Val 1.325048631032308\n",
      "Val 1.3225840536753337\n",
      "Val 1.3198017358779908\n",
      "Val 1.3251192585627238\n",
      "Val 1.3295419279734293\n",
      "Val 1.3218554830551148\n",
      "Val 1.3201945861180624\n",
      "Val 1.3238636541366577\n",
      "Val 1.3256730270385741\n",
      "Val 1.3250374523798625\n",
      "Val 1.3225642871856689\n",
      "Val 1.3293760045369467\n",
      "Val 1.3244184732437134\n",
      "Val 1.3241381247838337\n",
      "Val 1.3187435102462768\n",
      "Val 1.3297885020573934\n",
      "Val 1.319689154624939\n",
      "Val 1.3285725212097168\n",
      "Val 1.3206424522399902\n",
      "Val 1.3226128721237183\n",
      "Val 1.3249079847335816\n",
      "Val 1.3244259627660115\n",
      "Val 1.328822708129883\n",
      "Val 1.321747096379598\n",
      "Val 1.324715126355489\n",
      "Val 1.3212665685017904\n",
      "Val 1.3314937607447306\n",
      "Val 1.3328787485758464\n",
      "Val 1.3226725657780964\n",
      "Val 1.3222512102127075\n",
      "Val 1.3239987262090047\n",
      "Val 1.3304483445485433\n"
     ]
    }
   ],
   "source": [
    "epochs = 500\n",
    "\n",
    "for epoch in range(epochs):\n",
    "    train_loss = trainer(model, dataloader_train, loss)\n",
    "    if epoch % 10 == 0:\n",
    "        print('Val', validator(model, dataloader_test, loss))"
   ]
  },
  {
   "cell_type": "code",
   "execution_count": 85,
   "id": "f0b2443c",
   "metadata": {},
   "outputs": [
    {
     "name": "stdout",
     "output_type": "stream",
     "text": [
      "Prediction Accuracy Train 0.9343\n"
     ]
    }
   ],
   "source": [
    "model.eval()\n",
    "\n",
    "preds = []\n",
    "labels = []\n",
    "for x in dataloader_train_not_shuffled:\n",
    "    input_, label_ = x\n",
    "    input_ = input_.reshape(input_.shape[0], 1, -1)\n",
    "    input_ = input_.float().to(device)\n",
    "    label_ = label_.float().to(device)\n",
    "\n",
    "    pred_ = model(input_)\n",
    "    preds.extend(pred_)\n",
    "    labels.extend(label_)\n",
    "\n",
    "preds = torch.stack(preds)\n",
    "labels = torch.stack(labels)\n",
    "print('Prediction Accuracy Train', np.round((preds.argmax(dim=-1) == labels.argmax(dim=-1)).int().sum().float().item() / len(preds), 4))\n",
    "\n",
    "y_train_pred = preds.cpu().detach().numpy()"
   ]
  },
  {
   "cell_type": "code",
   "execution_count": 86,
   "id": "6fceeb56",
   "metadata": {},
   "outputs": [
    {
     "name": "stdout",
     "output_type": "stream",
     "text": [
      "Prediction Accuracy Test 0.6416\n"
     ]
    }
   ],
   "source": [
    "model.eval()\n",
    "\n",
    "preds = []\n",
    "labels = []\n",
    "for x in dataloader_test:\n",
    "    input_, label_ = x\n",
    "    input_ = input_.reshape(input_.shape[0], 1, -1)\n",
    "    input_ = input_.float().to(device)\n",
    "    label_ = label_.float().to(device)\n",
    "\n",
    "    pred_ = model(input_)\n",
    "    preds.extend(pred_)\n",
    "    labels.extend(label_)\n",
    "\n",
    "preds = torch.stack(preds)\n",
    "labels = torch.stack(labels)\n",
    "print('Prediction Accuracy Test', np.round((preds.argmax(dim=-1) == labels.argmax(dim=-1)).int().sum().float().item() / len(preds), 4))\n",
    "\n",
    "y_test_pred = preds.cpu().detach().numpy()"
   ]
  },
  {
   "cell_type": "code",
   "execution_count": null,
   "id": "46d9d359",
   "metadata": {},
   "outputs": [],
   "source": []
  },
  {
   "cell_type": "code",
   "execution_count": null,
   "id": "76b9b6a1",
   "metadata": {},
   "outputs": [],
   "source": []
  },
  {
   "cell_type": "markdown",
   "id": "fae7d9a5",
   "metadata": {},
   "source": [
    "# Generate attributions for the training data"
   ]
  },
  {
   "cell_type": "code",
   "execution_count": null,
   "id": "40f57338",
   "metadata": {},
   "outputs": [],
   "source": [
    "model.eval()"
   ]
  },
  {
   "cell_type": "code",
   "execution_count": null,
   "id": "355da05e",
   "metadata": {},
   "outputs": [],
   "source": [
    "sample, label = dataset_train[0]\n",
    "shape = sample.reshape(1, -1).shape\n",
    "baselines = torch.from_numpy(np.array([dataset_train[torch.randint(len(dataset_train), (1,))][0] for _ in range(10)])).reshape(-1, *shape).float().to(device)"
   ]
  },
  {
   "cell_type": "code",
   "execution_count": null,
   "id": "c17f81fa",
   "metadata": {},
   "outputs": [],
   "source": [
    "attributions_train = {}\n",
    "predictions_train = {}\n",
    "\n",
    "attr_batch, preds_batch = exp_att.generate_attributions_batch(shape, model, device, dataloader_train_not_shuffled, baselines)\n",
    "attributions_train.update(attr_batch)\n",
    "predictions_train.update(preds_batch)\n",
    "\n",
    "del attr_batch\n",
    "del preds_batch\n",
    "\n",
    "attr_single, preds_single = exp_att.generate_attributions_single(shape, model, device, dataloader_train_not_shuffled, baselines)\n",
    "attributions_train.update(attr_single)\n",
    "predictions_train.update(preds_single)\n",
    "\n",
    "del attr_single\n",
    "del preds_single"
   ]
  },
  {
   "cell_type": "code",
   "execution_count": null,
   "id": "b6fea25c",
   "metadata": {},
   "outputs": [],
   "source": [
    "overall_results = exp_pa.perturbation_analysis(attributions_train, X_train, y_train, model, device, base_dir)"
   ]
  },
  {
   "cell_type": "code",
   "execution_count": null,
   "id": "fcaca774",
   "metadata": {},
   "outputs": [],
   "source": [
    "for cur_attr_name in attributions_train:\n",
    "    cur_attr_name = cur_attr_name.lower().replace(' ', '_')\n",
    "    cur_dir = f'{base_dir}/method-{cur_attr_name}'\n",
    "    for deletion_value in exp_pa.values:\n",
    "        deletion_value_fnc, deletion_length = deletion_value\n",
    "        name = deletion_value_fnc.__name__ + ' ' + str(deletion_length)\n",
    "        attribution = cur_attr_name\n",
    "        \n",
    "        results = overall_results[cur_attr_name][name]\n",
    "        exp_card.create_perturbation_analysis_card(dataset, attribution, name, X_train, results, cur_dir)"
   ]
  },
  {
   "cell_type": "code",
   "execution_count": null,
   "id": "1faf4a3d",
   "metadata": {},
   "outputs": [],
   "source": [
    "import json\n",
    "from json import JSONEncoder\n",
    "\n",
    "class NumpyArrayEncoder(JSONEncoder):\n",
    "    def default(self, obj):\n",
    "        if isinstance(obj, np.ndarray):\n",
    "            return obj.tolist()\n",
    "        if isinstance(obj, np.int64):\n",
    "            return str(obj)\n",
    "        if isinstance(obj, np.float32):\n",
    "            return str(obj)\n",
    "        return JSONEncoder.default(self, obj)\n",
    "\n",
    "overall_results_json = json.dumps(overall_results, cls=NumpyArrayEncoder)\n",
    "\n",
    "with open(f'{base_dir}/results.json', 'w') as f:\n",
    "    f.write(overall_results_json)"
   ]
  },
  {
   "cell_type": "code",
   "execution_count": null,
   "id": "e4aa1f56",
   "metadata": {},
   "outputs": [],
   "source": [
    "import shutil\n",
    "\n",
    "shutil.make_archive(f'./results/time-{cur_time}', 'zip', base_dir)"
   ]
  },
  {
   "cell_type": "code",
   "execution_count": null,
   "id": "13794036",
   "metadata": {},
   "outputs": [],
   "source": []
  }
 ],
 "metadata": {
  "kernelspec": {
   "display_name": "Captum",
   "language": "python",
   "name": "captum"
  },
  "language_info": {
   "codemirror_mode": {
    "name": "ipython",
    "version": 3
   },
   "file_extension": ".py",
   "mimetype": "text/x-python",
   "name": "python",
   "nbconvert_exporter": "python",
   "pygments_lexer": "ipython3",
   "version": "3.10.8"
  }
 },
 "nbformat": 4,
 "nbformat_minor": 5
}
